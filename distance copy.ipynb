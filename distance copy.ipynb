{
 "cells": [
  {
   "cell_type": "code",
   "execution_count": 54,
   "metadata": {},
   "outputs": [],
   "source": [
    "from selenium import webdriver\n",
    "from selenium.webdriver.common.keys import Keys\n",
    "from selenium.webdriver.common.by import By\n",
    "import pandas as pd\n",
    "import time\n",
    "\n",
    "\n",
    "options = webdriver.ChromeOptions()\n",
    "options.add_argument('--headless')\n",
    "\n",
    "\n",
    "\n",
    "navegador = webdriver.Chrome()\n",
    "\n"
   ]
  },
  {
   "cell_type": "code",
   "execution_count": 55,
   "metadata": {},
   "outputs": [],
   "source": [
    "# import pyodbc\n",
    "# conn = pyodbc.connect('Driver={SQL Server};'\n",
    "\n",
    "# 'Server=HC08;'\n",
    "\n",
    "# 'Database=DW;'\n",
    "\n",
    "# 'Trusted_Connection=yes;')\n",
    "\n",
    "# listaceps = pd.read_sql_query(\"\"\"select distinct(CEP),CIDADE from DW.dbo.FactFaturamentoControladoria\n",
    "# where EMPRESA_NOME like '%São%' and UF = 'SP'\"\"\",conn)"
   ]
  },
  {
   "cell_type": "code",
   "execution_count": 56,
   "metadata": {},
   "outputs": [],
   "source": [
    "arquivo= pd.read_excel(r'C:\\Users\\victor.santos\\Documents\\Scripts\\Digital Transformation\\DISTANCE\\KM TOTAL.xlsx')"
   ]
  },
  {
   "cell_type": "code",
   "execution_count": 57,
   "metadata": {},
   "outputs": [],
   "source": [
    "cep_origem = arquivo['CEP DE ORIGEM ']\n",
    "cep_destino = arquivo['CEP_DESTINO_CHAVE']"
   ]
  },
  {
   "cell_type": "code",
   "execution_count": 58,
   "metadata": {},
   "outputs": [],
   "source": [
    "for i in arquivo.index:\n",
    "    arquivo.loc[i,'CHAVETOTAL'] =arquivo.loc[i,'CEP_CHAVE']+ '/'+arquivo.loc[i,'CEP_DESTINO_CHAVE'] "
   ]
  },
  {
   "cell_type": "code",
   "execution_count": 59,
   "metadata": {},
   "outputs": [],
   "source": [
    "cep = arquivo['CHAVETOTAL']"
   ]
  },
  {
   "cell_type": "code",
   "execution_count": 60,
   "metadata": {},
   "outputs": [
    {
     "name": "stdout",
     "output_type": "stream",
     "text": [
      "69041000-AM/69007002-AM\n",
      "33500900-MG/32669700-MG\n",
      "33500900-MG/32669174-MG\n",
      "33500900-MG/39665000-MG\n",
      "33500900-MG/32210180-MG\n",
      "33500900-MG/32210180-MG\n",
      "33500900-MG/32900000-MG\n",
      "33500900-MG/39508000-MG\n",
      "33500900-MG/35701482-MG\n",
      "33500900-MG/35701618-MG\n",
      "33500900-MG/35701618-MG\n",
      "33500900-MG/35701618-MG\n",
      "33500900-MG/39260000-MG\n",
      "33500900-MG/39260000-MG\n",
      "33500900-MG/39508000-MG\n",
      "66115970-PA/66813250-PA\n",
      "51210902-PE/55900000-PE\n",
      "21941900-RJ/25085370-RJ\n",
      "7190100-SP/9850550-SP\n",
      "7190100-SP/9820280-SP\n"
     ]
    }
   ],
   "source": [
    "listakm = []\n",
    "listadeceps =[]\n",
    "listadeerros =[]\n",
    "\n",
    "for cep in arquivo['CHAVETOTAL']:\n",
    "    try:\n",
    "        navegador.get('https://www.google.com.br/maps/dir/{}'.format(cep))\n",
    "        km = navegador.find_element(By.XPATH,'//*[@id=\"section-directions-trip-0\"]/div[1]/div[1]/div[1]/div[2]/div').text\n",
    "        listakm.append(km)\n",
    "        listadeceps.append(cep)\n",
    "        print(cep)\n",
    "    except:\n",
    "        listadeerros.append(cep)"
   ]
  },
  {
   "cell_type": "code",
   "execution_count": 61,
   "metadata": {},
   "outputs": [
    {
     "data": {
      "text/plain": [
       "['20,3 km',\n",
       " '55,3 km',\n",
       " '58,7 km',\n",
       " '411 km',\n",
       " '48,0 km',\n",
       " '48,0 km',\n",
       " '92,9 km',\n",
       " '627 km',\n",
       " '45,1 km',\n",
       " '45,0 km',\n",
       " '45,0 km',\n",
       " '45,0 km',\n",
       " '315 km',\n",
       " '315 km',\n",
       " '627 km',\n",
       " '14,2 km',\n",
       " '76,7 km',\n",
       " '22,6 km',\n",
       " '63,4 km',\n",
       " '57,8 km']"
      ]
     },
     "metadata": {},
     "output_type": "display_data"
    },
    {
     "data": {
      "text/plain": [
       "['69041000-AM/69007002-AM',\n",
       " '33500900-MG/32669700-MG',\n",
       " '33500900-MG/32669174-MG',\n",
       " '33500900-MG/39665000-MG',\n",
       " '33500900-MG/32210180-MG',\n",
       " '33500900-MG/32210180-MG',\n",
       " '33500900-MG/32900000-MG',\n",
       " '33500900-MG/39508000-MG',\n",
       " '33500900-MG/35701482-MG',\n",
       " '33500900-MG/35701618-MG',\n",
       " '33500900-MG/35701618-MG',\n",
       " '33500900-MG/35701618-MG',\n",
       " '33500900-MG/39260000-MG',\n",
       " '33500900-MG/39260000-MG',\n",
       " '33500900-MG/39508000-MG',\n",
       " '66115970-PA/66813250-PA',\n",
       " '51210902-PE/55900000-PE',\n",
       " '21941900-RJ/25085370-RJ',\n",
       " '7190100-SP/9850550-SP',\n",
       " '7190100-SP/9820280-SP']"
      ]
     },
     "metadata": {},
     "output_type": "display_data"
    }
   ],
   "source": [
    "display(listakm)\n",
    "display(listadeceps)\n",
    "\n",
    "\n"
   ]
  },
  {
   "cell_type": "code",
   "execution_count": 62,
   "metadata": {},
   "outputs": [
    {
     "data": {
      "text/plain": [
       "['69041000-AM/69007002-AM',\n",
       " '33500900-MG/32669700-MG',\n",
       " '33500900-MG/32669174-MG',\n",
       " '33500900-MG/39665000-MG',\n",
       " '33500900-MG/32210180-MG',\n",
       " '33500900-MG/32210180-MG',\n",
       " '33500900-MG/32900000-MG',\n",
       " '33500900-MG/39508000-MG',\n",
       " '33500900-MG/35701482-MG',\n",
       " '33500900-MG/35701618-MG',\n",
       " '33500900-MG/35701618-MG',\n",
       " '33500900-MG/35701618-MG',\n",
       " '33500900-MG/39260000-MG',\n",
       " '33500900-MG/39260000-MG',\n",
       " '33500900-MG/39508000-MG',\n",
       " '66115970-PA/66813250-PA',\n",
       " '51210902-PE/55900000-PE',\n",
       " '21941900-RJ/25085370-RJ',\n",
       " '7190100-SP/9850550-SP',\n",
       " '7190100-SP/9820280-SP']"
      ]
     },
     "execution_count": 62,
     "metadata": {},
     "output_type": "execute_result"
    }
   ],
   "source": [
    "listadeceps"
   ]
  },
  {
   "cell_type": "code",
   "execution_count": 63,
   "metadata": {},
   "outputs": [],
   "source": [
    "dadostotais = zip(listadeceps,listakm)"
   ]
  },
  {
   "cell_type": "code",
   "execution_count": 64,
   "metadata": {},
   "outputs": [
    {
     "data": {
      "text/plain": [
       "<zip at 0x292fcf63e80>"
      ]
     },
     "execution_count": 64,
     "metadata": {},
     "output_type": "execute_result"
    }
   ],
   "source": [
    "dadostotais"
   ]
  },
  {
   "cell_type": "code",
   "execution_count": 65,
   "metadata": {},
   "outputs": [],
   "source": [
    "dadostotais = dict(zip(listadeceps,listakm))"
   ]
  },
  {
   "cell_type": "code",
   "execution_count": 66,
   "metadata": {},
   "outputs": [],
   "source": [
    "df = pd.DataFrame(dadostotais ,index = [0]).T"
   ]
  },
  {
   "cell_type": "code",
   "execution_count": 67,
   "metadata": {},
   "outputs": [],
   "source": [
    "df.to_excel('BaseCEPxKM.xlsx')"
   ]
  },
  {
   "cell_type": "code",
   "execution_count": 68,
   "metadata": {},
   "outputs": [],
   "source": [
    "pd.DataFrame(listadeerros).to_excel('BaseDeErros.xlsx')"
   ]
  },
  {
   "cell_type": "code",
   "execution_count": null,
   "metadata": {},
   "outputs": [],
   "source": []
  }
 ],
 "metadata": {
  "kernelspec": {
   "display_name": "base",
   "language": "python",
   "name": "python3"
  },
  "language_info": {
   "codemirror_mode": {
    "name": "ipython",
    "version": 3
   },
   "file_extension": ".py",
   "mimetype": "text/x-python",
   "name": "python",
   "nbconvert_exporter": "python",
   "pygments_lexer": "ipython3",
   "version": "3.10.9"
  },
  "orig_nbformat": 4
 },
 "nbformat": 4,
 "nbformat_minor": 2
}
